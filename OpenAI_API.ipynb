{
  "nbformat": 4,
  "nbformat_minor": 0,
  "metadata": {
    "colab": {
      "provenance": [],
      "collapsed_sections": [
        "8jcPwBitTwt3"
      ]
    },
    "kernelspec": {
      "name": "python3",
      "display_name": "Python 3"
    },
    "language_info": {
      "name": "python"
    }
  },
  "cells": [
    {
      "cell_type": "markdown",
      "source": [
        "## Процесс сбора датасета при помощи OpenAI API  \n",
        "  \n",
        "  **Основные функции**  \n",
        "\n",
        "\n",
        "  | Название | Input | Input format | Output | Output format |\n",
        "|----------|----------|----------|----------|----------|\n",
        "| csv2lists| file_path| str | texts, first, length| list, list, list|\n",
        "| api_request| prompt, AUTHOR, BOOK, TEXT, LENGTH| str, str, str, str, int| API answer| str|\n",
        "| parsing| api_output| str| [text, PERS, LOC, ACT][t | list of str|\n",
        "| save2csv | name_of_csv, list_to_save | str, list of lists | - | - |\n",
        "\n"
      ],
      "metadata": {
        "id": "Y0uE0fv6kcig"
      }
    },
    {
      "cell_type": "markdown",
      "source": [
        "**Официальная библиотека OpenAI**"
      ],
      "metadata": {
        "id": "5qpaE4EFQCFO"
      }
    },
    {
      "cell_type": "code",
      "source": [
        "!pip install openai"
      ],
      "metadata": {
        "colab": {
          "base_uri": "https://localhost:8080/"
        },
        "id": "NbS3M8-03x1x",
        "outputId": "1fc56f09-5533-48a1-be58-7b51919c9063"
      },
      "execution_count": null,
      "outputs": [
        {
          "output_type": "stream",
          "name": "stdout",
          "text": [
            "Collecting openai\n",
            "  Downloading openai-1.30.1-py3-none-any.whl (320 kB)\n",
            "\u001b[2K     \u001b[90m━━━━━━━━━━━━━━━━━━━━━━━━━━━━━━━━━━━━━━━━\u001b[0m \u001b[32m320.6/320.6 kB\u001b[0m \u001b[31m5.8 MB/s\u001b[0m eta \u001b[36m0:00:00\u001b[0m\n",
            "\u001b[?25hRequirement already satisfied: anyio<5,>=3.5.0 in /usr/local/lib/python3.10/dist-packages (from openai) (3.7.1)\n",
            "Requirement already satisfied: distro<2,>=1.7.0 in /usr/lib/python3/dist-packages (from openai) (1.7.0)\n",
            "Collecting httpx<1,>=0.23.0 (from openai)\n",
            "  Downloading httpx-0.27.0-py3-none-any.whl (75 kB)\n",
            "\u001b[2K     \u001b[90m━━━━━━━━━━━━━━━━━━━━━━━━━━━━━━━━━━━━━━━━\u001b[0m \u001b[32m75.6/75.6 kB\u001b[0m \u001b[31m5.2 MB/s\u001b[0m eta \u001b[36m0:00:00\u001b[0m\n",
            "\u001b[?25hRequirement already satisfied: pydantic<3,>=1.9.0 in /usr/local/lib/python3.10/dist-packages (from openai) (2.7.1)\n",
            "Requirement already satisfied: sniffio in /usr/local/lib/python3.10/dist-packages (from openai) (1.3.1)\n",
            "Requirement already satisfied: tqdm>4 in /usr/local/lib/python3.10/dist-packages (from openai) (4.66.4)\n",
            "Requirement already satisfied: typing-extensions<5,>=4.7 in /usr/local/lib/python3.10/dist-packages (from openai) (4.11.0)\n",
            "Requirement already satisfied: idna>=2.8 in /usr/local/lib/python3.10/dist-packages (from anyio<5,>=3.5.0->openai) (3.7)\n",
            "Requirement already satisfied: exceptiongroup in /usr/local/lib/python3.10/dist-packages (from anyio<5,>=3.5.0->openai) (1.2.1)\n",
            "Requirement already satisfied: certifi in /usr/local/lib/python3.10/dist-packages (from httpx<1,>=0.23.0->openai) (2024.2.2)\n",
            "Collecting httpcore==1.* (from httpx<1,>=0.23.0->openai)\n",
            "  Downloading httpcore-1.0.5-py3-none-any.whl (77 kB)\n",
            "\u001b[2K     \u001b[90m━━━━━━━━━━━━━━━━━━━━━━━━━━━━━━━━━━━━━━━━\u001b[0m \u001b[32m77.9/77.9 kB\u001b[0m \u001b[31m5.9 MB/s\u001b[0m eta \u001b[36m0:00:00\u001b[0m\n",
            "\u001b[?25hCollecting h11<0.15,>=0.13 (from httpcore==1.*->httpx<1,>=0.23.0->openai)\n",
            "  Downloading h11-0.14.0-py3-none-any.whl (58 kB)\n",
            "\u001b[2K     \u001b[90m━━━━━━━━━━━━━━━━━━━━━━━━━━━━━━━━━━━━━━━━\u001b[0m \u001b[32m58.3/58.3 kB\u001b[0m \u001b[31m4.6 MB/s\u001b[0m eta \u001b[36m0:00:00\u001b[0m\n",
            "\u001b[?25hRequirement already satisfied: annotated-types>=0.4.0 in /usr/local/lib/python3.10/dist-packages (from pydantic<3,>=1.9.0->openai) (0.6.0)\n",
            "Requirement already satisfied: pydantic-core==2.18.2 in /usr/local/lib/python3.10/dist-packages (from pydantic<3,>=1.9.0->openai) (2.18.2)\n",
            "Installing collected packages: h11, httpcore, httpx, openai\n",
            "Successfully installed h11-0.14.0 httpcore-1.0.5 httpx-0.27.0 openai-1.30.1\n"
          ]
        }
      ]
    },
    {
      "cell_type": "markdown",
      "source": [
        "**Необходимые библиотеки**"
      ],
      "metadata": {
        "id": "JOyBpd0zQHXE"
      }
    },
    {
      "cell_type": "code",
      "source": [
        "import csv\n",
        "import re\n",
        "import tqdm\n",
        "from datetime import datetime\n",
        "import openai\n",
        "from openai import OpenAI"
      ],
      "metadata": {
        "id": "XROzHPxBRRXj"
      },
      "execution_count": null,
      "outputs": []
    },
    {
      "cell_type": "markdown",
      "source": [
        "## 1. Сбор чанков текста из CSV"
      ],
      "metadata": {
        "id": "Rb2rluxFRRuO"
      }
    },
    {
      "cell_type": "code",
      "source": [
        "def csv2lists(file_path): # на выходе три списка\n",
        "  texts = []\n",
        "  first = []\n",
        "  length = []\n",
        "\n",
        "  with open(file_path, 'r', encoding='utf-8') as file:\n",
        "    reader = csv.reader(file)\n",
        "    # чтобы пропустить названия столбцов\n",
        "    next(reader)\n",
        "    past_was_deleted = '0'\n",
        "    for row in reader:\n",
        "      if int(row[2]) > 156 and int(row[2]) <= 331:\n",
        "        texts.append(row[0])\n",
        "        if past_was_deleted == '-1':\n",
        "          # правило начала главы пересиливает правило пропуска предыдущего\n",
        "          if str(row[1]) == '1':\n",
        "            first.append('1')\n",
        "          else:\n",
        "            first.append(past_was_deleted)\n",
        "            past_was_deleted = '0'\n",
        "        else:\n",
        "          first.append(str(row[1]))\n",
        "        length.append(row[2])\n",
        "      else:\n",
        "        past_was_deleted == '-1'\n",
        "    return texts, first, length"
      ],
      "metadata": {
        "id": "Sz8WWELRRXNo"
      },
      "execution_count": null,
      "outputs": []
    },
    {
      "cell_type": "markdown",
      "source": [
        "# Оформление запроса к API"
      ],
      "metadata": {
        "id": "6DElnLDHVoGX"
      }
    },
    {
      "cell_type": "markdown",
      "source": [
        "**Апи ключ получен при создании проекта на [официальном сайте]()**"
      ],
      "metadata": {
        "id": "T-tcGIuGQgfl"
      }
    },
    {
      "cell_type": "code",
      "source": [
        "client = OpenAI(\n",
        "    api_key=\"МОЙ-АПИ-КЛЮЧ\",\n",
        ")"
      ],
      "metadata": {
        "id": "omSu2mskVIFw"
      },
      "execution_count": null,
      "outputs": []
    },
    {
      "cell_type": "code",
      "source": [
        "all_prompts = []"
      ],
      "metadata": {
        "id": "6Nop-ek9-VKR"
      },
      "execution_count": null,
      "outputs": []
    },
    {
      "cell_type": "markdown",
      "source": [
        "**Финальная версия промпта после множества экспериментов**"
      ],
      "metadata": {
        "id": "NMuMqxbNRLd2"
      }
    },
    {
      "cell_type": "code",
      "source": [
        "def api_request(BOOK, AUTHOR, TEXT, LENGTH):\n",
        "  BOOK = BOOK\n",
        "  AUTHOR = AUTHOR\n",
        "  #previous_PERS = previous_PERS\n",
        "  #previous_LOC = previous_LOC\n",
        "  TEXT = TEXT\n",
        "  LENGTH = LENGTH\n",
        "  prompt = \"Now you will receive the following information: the title and author \\\n",
        "  of the book and a passage from it.\\nYou should output:\\n1. The plot of what is \\\n",
        "  happening in the passage\\n2. PERS: list the characters involved in the passage\\\n",
        "  \\n3. LOC: name the location where the action takes place in the passage\\nIf you\\\n",
        "   can’t determine PERS or LOC, output “undefined” for them.\\n4. ACT: determine \\\n",
        "   the type of action (rhetorical model) in the passage from the following list: \\\n",
        "   1 action (action occurs), 2 dialogue (characters talk), 3 thoughts (feelings \\\n",
        "   and thoughts description), 4 scene (exposition of a location), 5 description \\\n",
        "   (description of something other than a place), 6 summary (overview of what \\\n",
        "   happened). Output just numbers.\\n\\nThe book title and the author: {}, {}\\nThe\\\n",
        "    passage: {}\\n\\nIMPORTANT: your answer SHOULD NOT EXCEED in length {} \\\n",
        "    words.\".format(BOOK, AUTHOR, TEXT, LENGTH)\n",
        "  all_damn_prompts.append(prompt)\n",
        "  answer = client.chat.completions.create(\n",
        "      messages=[\n",
        "          {\n",
        "              \"role\": \"user\",\n",
        "              \"content\": prompt,\n",
        "          }\n",
        "      ],\n",
        "      model=\"gpt-4o\",\n",
        "  )\n",
        "  return(answer.choices[0].message.content)"
      ],
      "metadata": {
        "id": "xnCvpSmPVaya"
      },
      "execution_count": null,
      "outputs": []
    },
    {
      "cell_type": "markdown",
      "source": [
        "## Распарсить ответ"
      ],
      "metadata": {
        "id": "OX26-apfVf7-"
      }
    },
    {
      "cell_type": "code",
      "source": [
        "def parsing(api_output):\n",
        "  api_output = api_output.replace(\"\\n\", \"\")\n",
        "  if \"LOC\" not in api_output:\n",
        "    print(\"Новый идизайн аутпута\")\n",
        "    print(\"Текст, что не распарсился:\\n\", api_output)\n",
        "  else:\n",
        "    pattern_text = r'1(.*)PERS'\n",
        "    pattern_PERS = r'PERS(.*?)LOC'\n",
        "    pattern_LOC = r'LOC(.*?)ACT'\n",
        "    pattern_ACT = r'ACT(.*)'\n",
        "\n",
        "  match_text = re.search(pattern_text, api_output)\n",
        "  match__PERS = re.search(pattern_PERS, api_output)\n",
        "  match_LOC = re.search(pattern_LOC, api_output)\n",
        "  match_ACT = re.search(pattern_ACT, api_output)\n",
        "\n",
        "  #print(match_text)\n",
        "  #print(match__PERS)\n",
        "  #print(match_LOC)\n",
        "  #print(match_ACT)\n",
        "\n",
        "  try:\n",
        "    text = match_text.group(1).strip(\"*: \\n.1234\")\n",
        "    PERS = match__PERS.group(1).strip(\"*: \\n.1234\")\n",
        "    LOC = match_LOC.group(1).strip(\"*: \\n.1234\")\n",
        "    ACT = match_ACT.group(1).strip(\"*: \\n.\")\n",
        "  except Exception as e:\n",
        "    print(e)\n",
        "    print(\"Текст, что не распарсился:\\n\", api_output)\n",
        "\n",
        "  return [text, PERS, LOC, ACT]\n"
      ],
      "metadata": {
        "id": "5PAPOlR4VnTs"
      },
      "execution_count": null,
      "outputs": []
    },
    {
      "cell_type": "code",
      "source": [
        "parsing('1. The plot of what is happening in the passage\\n2. PERS: list the characters involved in the passage\\n3. LOC: name the location where the action takes place in the passage\\n4. ACT: determine the type of action (rhetorical model) in the passage from the following list: 1 action (action occurs), 2 dialogue (characters talk), 3 thoughts (feelings and thoughts description), 4 scene (exposition of a location), 5 description (description of something other than a place), 6 summary (overview of what happened)')"
      ],
      "metadata": {
        "colab": {
          "base_uri": "https://localhost:8080/"
        },
        "id": "5KRRRXArqQQS",
        "outputId": "43bce9d0-7a1a-4dba-feb2-9a921d76d1df"
      },
      "execution_count": null,
      "outputs": [
        {
          "output_type": "stream",
          "name": "stdout",
          "text": [
            "1. The plot of what is happening in the passage2. PERS: list the characters involved in the passage3. LOC: name the location where the action takes place in the passage4. ACT: determine the type of action (rhetorical model) in the passage from the following list: 1 action (action occurs), 2 dialogue (characters talk), 3 thoughts (feelings and thoughts description), 4 scene (exposition of a location), 5 description (description of something other than a place), 6 summary (overview of what happened)\n",
            "<re.Match object; span=(0, 54), match='1. The plot of what is happening in the passage2.>\n",
            "<re.Match object; span=(50, 105), match='PERS: list the characters involved in the passage>\n",
            "<re.Match object; span=(102, 174), match='LOC: name the location where the action takes pla>\n",
            "<re.Match object; span=(171, 502), match='ACT: determine the type of action (rhetorical mod>\n"
          ]
        },
        {
          "output_type": "execute_result",
          "data": {
            "text/plain": [
              "['The plot of what is happening in the passage',\n",
              " 'list the characters involved in the passage',\n",
              " 'name the location where the action takes place in the passage',\n",
              " 'determine the type of action (rhetorical model) in the passage from the following list: 1 action (action occurs), 2 dialogue (characters talk), 3 thoughts (feelings and thoughts description), 4 scene (exposition of a location), 5 description (description of something other than a place), 6 summary (overview of what happened)']"
            ]
          },
          "metadata": {},
          "execution_count": 40
        }
      ]
    },
    {
      "cell_type": "markdown",
      "source": [
        "## Сбор в один код запроса"
      ],
      "metadata": {
        "id": "Z3612ko839dR"
      }
    },
    {
      "cell_type": "code",
      "source": [
        "file_path = str(1016) + '.csv'"
      ],
      "metadata": {
        "id": "oMY_Td-KNmsv"
      },
      "execution_count": null,
      "outputs": []
    },
    {
      "cell_type": "code",
      "source": [
        "final_csv = [['chunk1','chunk2','author','book','PERS','LOC','ACT']]\n",
        "\n",
        "start_time = datetime.now()\n",
        "texts, first, length = csv2lists(file_path)\n",
        "texts = new_texts\n",
        "AUTHOR = 'J R R Tolkien'\n",
        "BOOK = 'Hobbit or There and Back Again'\n",
        "LENGTH = 165\n",
        "for i in  tqdm.tqdm(range(len(texts))):\n",
        "  TEXT = texts[i]\n",
        "  start = first[i]\n",
        "  csv_line = parsing(api_request(BOOK, AUTHOR, TEXT, LENGTH))\n",
        "  final_line = [TEXT, csv_line[0], AUTHOR, BOOK, csv_line[1], csv_line[2], csv_line[3]]\n",
        "  final_csv.append(final_line)\n",
        "stop_time = datetime.now()\n",
        "elapsed_time = stop_time - start_time\n",
        "print(f\"The code worked for: {elapsed_time}\")"
      ],
      "metadata": {
        "colab": {
          "base_uri": "https://localhost:8080/"
        },
        "id": "ldQrZx1gxwbi",
        "outputId": "baef8346-3e6e-4523-dccd-d98b80447de1"
      },
      "execution_count": null,
      "outputs": [
        {
          "output_type": "stream",
          "name": "stderr",
          "text": [
            "100%|██████████| 206/206 [08:50<00:00,  2.58s/it]"
          ]
        },
        {
          "output_type": "stream",
          "name": "stdout",
          "text": [
            "The code worked for: 0:08:50.762252\n"
          ]
        },
        {
          "output_type": "stream",
          "name": "stderr",
          "text": [
            "\n"
          ]
        }
      ]
    },
    {
      "cell_type": "markdown",
      "source": [
        "## Пример выдачи"
      ],
      "metadata": {
        "id": "Wr4WJgXRN_bE"
      }
    },
    {
      "cell_type": "code",
      "source": [
        "final_csv"
      ],
      "metadata": {
        "id": "LDUuZY6816Pp",
        "colab": {
          "base_uri": "https://localhost:8080/"
        },
        "outputId": "21b67fa0-a178-4ca4-a06d-607cc7f67feb"
      },
      "execution_count": null,
      "outputs": [
        {
          "output_type": "execute_result",
          "data": {
            "text/plain": [
              "[['chunk1', 'chunk2', 'author', 'book', 'PERS', 'LOC', 'ACT'],\n",
              " ['In a hole in the ground there lived a hobbit. Not a nasty, dirty, wet hole, filled with the ends of worms and an oozy smell, nor yet a dry, bare, sandy hole with nothing in it to sit down on or to eat: it was a hobbit-hole, and that means comfort.\\nIt had a perfectly round door like a porthole, painted green, with a shiny yellow brass knob in the exact middle. The door opened on to a tube-shaped hall like a tunnel: a very comfortable tunnel without smoke, with panelled walls, and floors tiled and carpeted, provided with polished chairs, and lots and lots of pegs for hats and coats - the hobbit was fond of visitors. The tunnel wound on and on, going fairly but not quite straight into the side of the hill - The Hill, as all the people for many miles round called it - and many little round doors opened out of it, first on one side and then on another. No going upstairs for the hobbit: bedrooms, bathrooms, cellars, pantries (lots of these), wardrobes (he had whole rooms devoted to clothes), kitchens, dining-rooms, all were on the same floor, and indeed on the same passage. The best rooms were all on the left-hand side (going in), for these were the only ones to have windows, deep-set round windows looking over his garden, and meadows beyond, sloping down to the river.',\n",
              "  'This passage describes the dwelling of a hobbit, elaborating on the comfort and detailed structure of the hobbit-hole. It outlines the appearance and features of the entrance, the tunnel-like hallway leading into the hill, and the various rooms on the same level, emphasizing the comfort and organization of the space',\n",
              "  'J R R Tolkien',\n",
              "  'Hobbit or There and Back Again',\n",
              "  'undefined',\n",
              "  'Hobbit-hole (inside a hill called The Hill)',\n",
              "  '5']]"
            ]
          },
          "metadata": {},
          "execution_count": 149
        }
      ]
    },
    {
      "cell_type": "markdown",
      "source": [
        "## Сохранение в файл"
      ],
      "metadata": {
        "id": "1gwOrvGFOENd"
      }
    },
    {
      "cell_type": "code",
      "source": [
        "def save2csv(name_of_csv, list_to_save):\n",
        "  with open(name_of_csv, 'w', newline='') as f:\n",
        "    writer = csv.writer(f)\n",
        "    writer.writerows(list_to_save)"
      ],
      "metadata": {
        "id": "L02BJTJdO9aX"
      },
      "execution_count": null,
      "outputs": []
    },
    {
      "cell_type": "code",
      "source": [
        "save2csv(\"1016_Hobbit.csv\", final_csv)"
      ],
      "metadata": {
        "id": "XsmaukkYO-JE"
      },
      "execution_count": null,
      "outputs": []
    },
    {
      "cell_type": "code",
      "source": [
        "# Дополнительное сохранение промптов\n",
        "with open(\"prompts_Sense_Hobbit.txt\", \"w\") as file:\n",
        "    for item in all_prompts:\n",
        "        file.write(f\"{item}\\n\\n\")"
      ],
      "metadata": {
        "id": "jMXABM2JC2wN"
      },
      "execution_count": null,
      "outputs": []
    }
  ]
}